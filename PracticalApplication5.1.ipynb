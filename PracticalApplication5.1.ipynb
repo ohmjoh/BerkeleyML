{
 "cells": [
  {
   "cell_type": "markdown",
   "metadata": {},
   "source": [
    "### Will a Customer Accept the Coupon?\n",
    "\n",
    "**Context**\n",
    "\n",
    "Imagine driving through town and a coupon is delivered to your cell phone for a restaraunt near where you are driving. Would you accept that coupon and take a short detour to the restaraunt? Would you accept the coupon but use it on a sunbsequent trip? Would you ignore the coupon entirely? What if the coupon was for a bar instead of a restaraunt? What about a coffee house? Would you accept a bar coupon with a minor passenger in the car? What about if it was just you and your partner in the car? Would weather impact the rate of acceptance? What about the time of day?\n",
    "\n",
    "Obviously, proximity to the business is a factor on whether the coupon is delivered to the driver or not, but what are the factors that determine whether a driver accepts the coupon once it is delivered to them? How would you determine whether a driver is likely to accept a coupon?\n",
    "\n",
    "**Overview**\n",
    "\n",
    "The goal of this project is to use what you know about visualizations and probability distributions to distinguish between customers who accepted a driving coupon versus those that did not.\n",
    "\n",
    "**Data**\n",
    "\n",
    "This data comes to us from the UCI Machine Learning repository and was collected via a survey on Amazon Mechanical Turk. The survey describes different driving scenarios including the destination, current time, weather, passenger, etc., and then ask the person whether he will accept the coupon if he is the driver. Answers that the user will drive there ‘right away’ or ‘later before the coupon expires’ are labeled as ‘Y = 1’ and answers ‘no, I do not want the coupon’ are labeled as ‘Y = 0’.  There are five different types of coupons -- less expensive restaurants (under \\\\$20), coffee houses, carry out & take away, bar, and more expensive restaurants (\\\\$20 - \\\\$50). "
   ]
  },
  {
   "cell_type": "markdown",
   "metadata": {},
   "source": [
    "**Deliverables**\n",
    "\n",
    "Your final product should be a brief report that highlights the differences between customers who did and did not accept the coupons.  To explore the data you will utilize your knowledge of plotting, statistical summaries, and visualization using Python. You will publish your findings in a public facing github repository as your first portfolio piece. \n",
    "\n",
    "\n",
    "\n"
   ]
  },
  {
   "cell_type": "markdown",
   "metadata": {},
   "source": [
    "### Data Description\n",
    "Keep in mind that these values mentioned below are average values.\n",
    "\n",
    "The attributes of this data set include:\n",
    "1. User attributes\n",
    "    -  Gender: male, female\n",
    "    -  Age: below 21, 21 to 25, 26 to 30, etc.\n",
    "    -  Marital Status: single, married partner, unmarried partner, or widowed\n",
    "    -  Number of children: 0, 1, or more than 1\n",
    "    -  Education: high school, bachelors degree, associates degree, or graduate degree\n",
    "    -  Occupation: architecture & engineering, business & financial, etc.\n",
    "    -  Annual income: less than \\\\$12500, \\\\$12500 - \\\\$24999, \\\\$25000 - \\\\$37499, etc.\n",
    "    -  Number of times that he/she goes to a bar: 0, less than 1, 1 to 3, 4 to 8 or greater than 8\n",
    "    -  Number of times that he/she buys takeaway food: 0, less than 1, 1 to 3, 4 to 8 or greater\n",
    "    than 8\n",
    "    -  Number of times that he/she goes to a coffee house: 0, less than 1, 1 to 3, 4 to 8 or\n",
    "    greater than 8\n",
    "    -  Number of times that he/she eats at a restaurant with average expense less than \\\\$20 per\n",
    "    person: 0, less than 1, 1 to 3, 4 to 8 or greater than 8\n",
    "    -  Number of times that he/she goes to a bar: 0, less than 1, 1 to 3, 4 to 8 or greater than 8\n",
    "    \n",
    "\n",
    "2. Contextual attributes\n",
    "    - Driving destination: home, work, or no urgent destination\n",
    "    - Location of user, coupon and destination: we provide a map to show the geographical\n",
    "    location of the user, destination, and the venue, and we mark the distance between each\n",
    "    two places with time of driving. The user can see whether the venue is in the same\n",
    "    direction as the destination.\n",
    "    - Weather: sunny, rainy, or snowy\n",
    "    - Temperature: 30F, 55F, or 80F\n",
    "    - Time: 10AM, 2PM, or 6PM\n",
    "    - Passenger: alone, partner, kid(s), or friend(s)\n",
    "\n",
    "\n",
    "3. Coupon attributes\n",
    "    - time before it expires: 2 hours or one day"
   ]
  },
  {
   "cell_type": "code",
   "execution_count": 1,
   "metadata": {},
   "outputs": [],
   "source": [
    "import matplotlib.pyplot as plt\n",
    "import seaborn as sns\n",
    "import pandas as pd\n",
    "import numpy as np\n",
    "import missingno as msno\n",
    "import scipy"
   ]
  },
  {
   "cell_type": "markdown",
   "metadata": {},
   "source": [
    "### Problems\n",
    "\n",
    "Use the prompts below to get started with your data analysis.  \n",
    "\n",
    "1. Read in the `coupons.csv` file.\n",
    "\n",
    "\n"
   ]
  },
  {
   "cell_type": "code",
   "execution_count": 2,
   "metadata": {},
   "outputs": [],
   "source": [
    "data = pd.read_csv('data/coupons.csv')"
   ]
  },
  {
   "cell_type": "code",
   "execution_count": 3,
   "metadata": {},
   "outputs": [
    {
     "data": {
      "text/html": [
       "<div>\n",
       "<style scoped>\n",
       "    .dataframe tbody tr th:only-of-type {\n",
       "        vertical-align: middle;\n",
       "    }\n",
       "\n",
       "    .dataframe tbody tr th {\n",
       "        vertical-align: top;\n",
       "    }\n",
       "\n",
       "    .dataframe thead th {\n",
       "        text-align: right;\n",
       "    }\n",
       "</style>\n",
       "<table border=\"1\" class=\"dataframe\">\n",
       "  <thead>\n",
       "    <tr style=\"text-align: right;\">\n",
       "      <th></th>\n",
       "      <th>destination</th>\n",
       "      <th>passanger</th>\n",
       "      <th>weather</th>\n",
       "      <th>temperature</th>\n",
       "      <th>time</th>\n",
       "      <th>coupon</th>\n",
       "      <th>expiration</th>\n",
       "      <th>gender</th>\n",
       "      <th>age</th>\n",
       "      <th>maritalStatus</th>\n",
       "      <th>...</th>\n",
       "      <th>CoffeeHouse</th>\n",
       "      <th>CarryAway</th>\n",
       "      <th>RestaurantLessThan20</th>\n",
       "      <th>Restaurant20To50</th>\n",
       "      <th>toCoupon_GEQ5min</th>\n",
       "      <th>toCoupon_GEQ15min</th>\n",
       "      <th>toCoupon_GEQ25min</th>\n",
       "      <th>direction_same</th>\n",
       "      <th>direction_opp</th>\n",
       "      <th>Y</th>\n",
       "    </tr>\n",
       "  </thead>\n",
       "  <tbody>\n",
       "    <tr>\n",
       "      <th>0</th>\n",
       "      <td>No Urgent Place</td>\n",
       "      <td>Alone</td>\n",
       "      <td>Sunny</td>\n",
       "      <td>55</td>\n",
       "      <td>2PM</td>\n",
       "      <td>Restaurant(&lt;20)</td>\n",
       "      <td>1d</td>\n",
       "      <td>Female</td>\n",
       "      <td>21</td>\n",
       "      <td>Unmarried partner</td>\n",
       "      <td>...</td>\n",
       "      <td>never</td>\n",
       "      <td>NaN</td>\n",
       "      <td>4~8</td>\n",
       "      <td>1~3</td>\n",
       "      <td>1</td>\n",
       "      <td>0</td>\n",
       "      <td>0</td>\n",
       "      <td>0</td>\n",
       "      <td>1</td>\n",
       "      <td>1</td>\n",
       "    </tr>\n",
       "    <tr>\n",
       "      <th>1</th>\n",
       "      <td>No Urgent Place</td>\n",
       "      <td>Friend(s)</td>\n",
       "      <td>Sunny</td>\n",
       "      <td>80</td>\n",
       "      <td>10AM</td>\n",
       "      <td>Coffee House</td>\n",
       "      <td>2h</td>\n",
       "      <td>Female</td>\n",
       "      <td>21</td>\n",
       "      <td>Unmarried partner</td>\n",
       "      <td>...</td>\n",
       "      <td>never</td>\n",
       "      <td>NaN</td>\n",
       "      <td>4~8</td>\n",
       "      <td>1~3</td>\n",
       "      <td>1</td>\n",
       "      <td>0</td>\n",
       "      <td>0</td>\n",
       "      <td>0</td>\n",
       "      <td>1</td>\n",
       "      <td>0</td>\n",
       "    </tr>\n",
       "    <tr>\n",
       "      <th>2</th>\n",
       "      <td>No Urgent Place</td>\n",
       "      <td>Friend(s)</td>\n",
       "      <td>Sunny</td>\n",
       "      <td>80</td>\n",
       "      <td>10AM</td>\n",
       "      <td>Carry out &amp; Take away</td>\n",
       "      <td>2h</td>\n",
       "      <td>Female</td>\n",
       "      <td>21</td>\n",
       "      <td>Unmarried partner</td>\n",
       "      <td>...</td>\n",
       "      <td>never</td>\n",
       "      <td>NaN</td>\n",
       "      <td>4~8</td>\n",
       "      <td>1~3</td>\n",
       "      <td>1</td>\n",
       "      <td>1</td>\n",
       "      <td>0</td>\n",
       "      <td>0</td>\n",
       "      <td>1</td>\n",
       "      <td>1</td>\n",
       "    </tr>\n",
       "    <tr>\n",
       "      <th>3</th>\n",
       "      <td>No Urgent Place</td>\n",
       "      <td>Friend(s)</td>\n",
       "      <td>Sunny</td>\n",
       "      <td>80</td>\n",
       "      <td>2PM</td>\n",
       "      <td>Coffee House</td>\n",
       "      <td>2h</td>\n",
       "      <td>Female</td>\n",
       "      <td>21</td>\n",
       "      <td>Unmarried partner</td>\n",
       "      <td>...</td>\n",
       "      <td>never</td>\n",
       "      <td>NaN</td>\n",
       "      <td>4~8</td>\n",
       "      <td>1~3</td>\n",
       "      <td>1</td>\n",
       "      <td>1</td>\n",
       "      <td>0</td>\n",
       "      <td>0</td>\n",
       "      <td>1</td>\n",
       "      <td>0</td>\n",
       "    </tr>\n",
       "    <tr>\n",
       "      <th>4</th>\n",
       "      <td>No Urgent Place</td>\n",
       "      <td>Friend(s)</td>\n",
       "      <td>Sunny</td>\n",
       "      <td>80</td>\n",
       "      <td>2PM</td>\n",
       "      <td>Coffee House</td>\n",
       "      <td>1d</td>\n",
       "      <td>Female</td>\n",
       "      <td>21</td>\n",
       "      <td>Unmarried partner</td>\n",
       "      <td>...</td>\n",
       "      <td>never</td>\n",
       "      <td>NaN</td>\n",
       "      <td>4~8</td>\n",
       "      <td>1~3</td>\n",
       "      <td>1</td>\n",
       "      <td>1</td>\n",
       "      <td>0</td>\n",
       "      <td>0</td>\n",
       "      <td>1</td>\n",
       "      <td>0</td>\n",
       "    </tr>\n",
       "  </tbody>\n",
       "</table>\n",
       "<p>5 rows × 26 columns</p>\n",
       "</div>"
      ],
      "text/plain": [
       "       destination  passanger weather  temperature  time  \\\n",
       "0  No Urgent Place      Alone   Sunny           55   2PM   \n",
       "1  No Urgent Place  Friend(s)   Sunny           80  10AM   \n",
       "2  No Urgent Place  Friend(s)   Sunny           80  10AM   \n",
       "3  No Urgent Place  Friend(s)   Sunny           80   2PM   \n",
       "4  No Urgent Place  Friend(s)   Sunny           80   2PM   \n",
       "\n",
       "                  coupon expiration  gender age      maritalStatus  ...  \\\n",
       "0        Restaurant(<20)         1d  Female  21  Unmarried partner  ...   \n",
       "1           Coffee House         2h  Female  21  Unmarried partner  ...   \n",
       "2  Carry out & Take away         2h  Female  21  Unmarried partner  ...   \n",
       "3           Coffee House         2h  Female  21  Unmarried partner  ...   \n",
       "4           Coffee House         1d  Female  21  Unmarried partner  ...   \n",
       "\n",
       "   CoffeeHouse CarryAway RestaurantLessThan20 Restaurant20To50  \\\n",
       "0        never       NaN                  4~8              1~3   \n",
       "1        never       NaN                  4~8              1~3   \n",
       "2        never       NaN                  4~8              1~3   \n",
       "3        never       NaN                  4~8              1~3   \n",
       "4        never       NaN                  4~8              1~3   \n",
       "\n",
       "  toCoupon_GEQ5min toCoupon_GEQ15min toCoupon_GEQ25min direction_same  \\\n",
       "0                1                 0                 0              0   \n",
       "1                1                 0                 0              0   \n",
       "2                1                 1                 0              0   \n",
       "3                1                 1                 0              0   \n",
       "4                1                 1                 0              0   \n",
       "\n",
       "  direction_opp  Y  \n",
       "0             1  1  \n",
       "1             1  0  \n",
       "2             1  1  \n",
       "3             1  0  \n",
       "4             1  0  \n",
       "\n",
       "[5 rows x 26 columns]"
      ]
     },
     "execution_count": 3,
     "metadata": {},
     "output_type": "execute_result"
    }
   ],
   "source": [
    "data.head()"
   ]
  },
  {
   "cell_type": "markdown",
   "metadata": {},
   "source": [
    "2. Investigate the dataset for missing or problematic data."
   ]
  },
  {
   "cell_type": "markdown",
   "metadata": {},
   "source": [
    "#### Data types and non-null count"
   ]
  },
  {
   "cell_type": "code",
   "execution_count": 4,
   "metadata": {},
   "outputs": [
    {
     "name": "stdout",
     "output_type": "stream",
     "text": [
      "<class 'pandas.core.frame.DataFrame'>\n",
      "RangeIndex: 12684 entries, 0 to 12683\n",
      "Data columns (total 26 columns):\n",
      " #   Column                Non-Null Count  Dtype \n",
      "---  ------                --------------  ----- \n",
      " 0   destination           12684 non-null  object\n",
      " 1   passanger             12684 non-null  object\n",
      " 2   weather               12684 non-null  object\n",
      " 3   temperature           12684 non-null  int64 \n",
      " 4   time                  12684 non-null  object\n",
      " 5   coupon                12684 non-null  object\n",
      " 6   expiration            12684 non-null  object\n",
      " 7   gender                12684 non-null  object\n",
      " 8   age                   12684 non-null  object\n",
      " 9   maritalStatus         12684 non-null  object\n",
      " 10  has_children          12684 non-null  int64 \n",
      " 11  education             12684 non-null  object\n",
      " 12  occupation            12684 non-null  object\n",
      " 13  income                12684 non-null  object\n",
      " 14  car                   108 non-null    object\n",
      " 15  Bar                   12577 non-null  object\n",
      " 16  CoffeeHouse           12467 non-null  object\n",
      " 17  CarryAway             12533 non-null  object\n",
      " 18  RestaurantLessThan20  12554 non-null  object\n",
      " 19  Restaurant20To50      12495 non-null  object\n",
      " 20  toCoupon_GEQ5min      12684 non-null  int64 \n",
      " 21  toCoupon_GEQ15min     12684 non-null  int64 \n",
      " 22  toCoupon_GEQ25min     12684 non-null  int64 \n",
      " 23  direction_same        12684 non-null  int64 \n",
      " 24  direction_opp         12684 non-null  int64 \n",
      " 25  Y                     12684 non-null  int64 \n",
      "dtypes: int64(8), object(18)\n",
      "memory usage: 2.5+ MB\n"
     ]
    }
   ],
   "source": [
    "#Find out data types & number of Null values\n",
    "data.info()"
   ]
  },
  {
   "cell_type": "markdown",
   "metadata": {},
   "source": [
    "Following columns have Null values: car, Bar, CoffeeHouse, CarryAway, RestaurantLessThan20, Restaurant20To50 "
   ]
  },
  {
   "cell_type": "markdown",
   "metadata": {},
   "source": [
    "#### Number of null values"
   ]
  },
  {
   "cell_type": "code",
   "execution_count": 5,
   "metadata": {},
   "outputs": [
    {
     "data": {
      "text/plain": [
       "destination                 0\n",
       "passanger                   0\n",
       "weather                     0\n",
       "temperature                 0\n",
       "time                        0\n",
       "coupon                      0\n",
       "expiration                  0\n",
       "gender                      0\n",
       "age                         0\n",
       "maritalStatus               0\n",
       "has_children                0\n",
       "education                   0\n",
       "occupation                  0\n",
       "income                      0\n",
       "car                     12576\n",
       "Bar                       107\n",
       "CoffeeHouse               217\n",
       "CarryAway                 151\n",
       "RestaurantLessThan20      130\n",
       "Restaurant20To50          189\n",
       "toCoupon_GEQ5min            0\n",
       "toCoupon_GEQ15min           0\n",
       "toCoupon_GEQ25min           0\n",
       "direction_same              0\n",
       "direction_opp               0\n",
       "Y                           0\n",
       "dtype: int64"
      ]
     },
     "execution_count": 5,
     "metadata": {},
     "output_type": "execute_result"
    }
   ],
   "source": [
    "data.isna().sum()"
   ]
  },
  {
   "cell_type": "markdown",
   "metadata": {},
   "source": [
    "#### Unique value counts of each columns to discover problematic data"
   ]
  },
  {
   "cell_type": "code",
   "execution_count": null,
   "metadata": {},
   "outputs": [],
   "source": [
    "#Check value counts for unusual values\n",
    "data['destination'].value_counts(dropna=False)"
   ]
  },
  {
   "cell_type": "code",
   "execution_count": null,
   "metadata": {},
   "outputs": [],
   "source": [
    "data['passanger'].value_counts(dropna=False)"
   ]
  },
  {
   "cell_type": "code",
   "execution_count": null,
   "metadata": {},
   "outputs": [],
   "source": [
    "data['weather'].value_counts(dropna=False)"
   ]
  },
  {
   "cell_type": "code",
   "execution_count": null,
   "metadata": {},
   "outputs": [],
   "source": [
    "data['temperature'].value_counts(dropna=False)"
   ]
  },
  {
   "cell_type": "code",
   "execution_count": null,
   "metadata": {},
   "outputs": [],
   "source": [
    "data['time'].value_counts(dropna=False)"
   ]
  },
  {
   "cell_type": "code",
   "execution_count": null,
   "metadata": {},
   "outputs": [],
   "source": [
    "data['coupon'].value_counts(dropna=False)"
   ]
  },
  {
   "cell_type": "code",
   "execution_count": null,
   "metadata": {},
   "outputs": [],
   "source": [
    "data['expiration'].value_counts(dropna=False)"
   ]
  },
  {
   "cell_type": "code",
   "execution_count": null,
   "metadata": {},
   "outputs": [],
   "source": [
    "data['gender'].value_counts(dropna=False)"
   ]
  },
  {
   "cell_type": "code",
   "execution_count": null,
   "metadata": {},
   "outputs": [],
   "source": [
    "data['age'].value_counts(dropna=False)"
   ]
  },
  {
   "cell_type": "code",
   "execution_count": null,
   "metadata": {},
   "outputs": [],
   "source": [
    "data['maritalStatus'].value_counts(dropna=False)"
   ]
  },
  {
   "cell_type": "code",
   "execution_count": null,
   "metadata": {},
   "outputs": [],
   "source": [
    "data['has_children'].value_counts(dropna=False)"
   ]
  },
  {
   "cell_type": "code",
   "execution_count": null,
   "metadata": {},
   "outputs": [],
   "source": [
    "data['education'].value_counts(dropna=False)"
   ]
  },
  {
   "cell_type": "code",
   "execution_count": null,
   "metadata": {},
   "outputs": [],
   "source": [
    "data['occupation'].value_counts()"
   ]
  },
  {
   "cell_type": "code",
   "execution_count": null,
   "metadata": {},
   "outputs": [],
   "source": [
    "data['income'].value_counts(dropna=False)"
   ]
  },
  {
   "cell_type": "code",
   "execution_count": null,
   "metadata": {},
   "outputs": [],
   "source": [
    "data['car'].value_counts(dropna=False)"
   ]
  },
  {
   "cell_type": "code",
   "execution_count": null,
   "metadata": {},
   "outputs": [],
   "source": [
    "#feature meaning: how many times do you go to a bar every month?\n",
    "data['Bar'].value_counts(dropna=False)"
   ]
  },
  {
   "cell_type": "code",
   "execution_count": null,
   "metadata": {},
   "outputs": [],
   "source": [
    "#feature meaning: how many times do you go to a coffeehouse every month?\n",
    "data['CoffeeHouse'].value_counts(dropna=False)"
   ]
  },
  {
   "cell_type": "code",
   "execution_count": null,
   "metadata": {},
   "outputs": [],
   "source": [
    "#feature meaning: how many times do you get take-away food every month?\n",
    "data['CarryAway'].value_counts(dropna=False)"
   ]
  },
  {
   "cell_type": "code",
   "execution_count": null,
   "metadata": {},
   "outputs": [],
   "source": [
    "#feature meaning: how many times do you go to a restaurant with an average expense per person of less than $20 every month?\n",
    "data['RestaurantLessThan20'].value_counts(dropna=False)"
   ]
  },
  {
   "cell_type": "code",
   "execution_count": null,
   "metadata": {},
   "outputs": [],
   "source": [
    "#feature meaning: how many times do you go to a restaurant with average expense per person of $20 - $50 every month?\n",
    "data['Restaurant20To50'].value_counts(dropna=False)"
   ]
  },
  {
   "cell_type": "code",
   "execution_count": null,
   "metadata": {},
   "outputs": [],
   "source": [
    "#feature meaning: driving distance to the restaurant/bar for using the coupon is greater than 5 minutes\n",
    "data['toCoupon_GEQ5min'].value_counts(dropna=False)"
   ]
  },
  {
   "cell_type": "code",
   "execution_count": null,
   "metadata": {},
   "outputs": [],
   "source": [
    "#feature meaning: driving distance to the restaurant/bar for using the coupon is greater than 15 minutes\n",
    "data['toCoupon_GEQ15min'].value_counts(dropna=False)"
   ]
  },
  {
   "cell_type": "code",
   "execution_count": null,
   "metadata": {},
   "outputs": [],
   "source": [
    "#feature meaning: driving distance to the restaurant/bar for using the coupon is greater than 25 minutes\n",
    "data['toCoupon_GEQ25min'].value_counts(dropna=False)"
   ]
  },
  {
   "cell_type": "code",
   "execution_count": null,
   "metadata": {},
   "outputs": [],
   "source": [
    "#feature meaning: whether the restaurant/bar is in the same direction as your current destination\n",
    "data['direction_same'].value_counts(dropna=False)"
   ]
  },
  {
   "cell_type": "code",
   "execution_count": null,
   "metadata": {},
   "outputs": [],
   "source": [
    "#feature meaning: whether the restaurant/bar is in the opposite direction as your current destination\n",
    "data['direction_opp'].value_counts(dropna=False)"
   ]
  },
  {
   "cell_type": "code",
   "execution_count": null,
   "metadata": {},
   "outputs": [],
   "source": [
    "data['Y'].value_counts(dropna=False)"
   ]
  },
  {
   "cell_type": "markdown",
   "metadata": {},
   "source": [
    "* After examining missing values and possible poblometic values, it is found that the 'car' variable only has 108 non-null values out of 12684 records. Also, 'toCoupon_GEQ5min' varibale has the same values for all the records, so it does not add any additional information for the analysis. "
   ]
  },
  {
   "cell_type": "markdown",
   "metadata": {},
   "source": [
    "* Also, it's a minor thing, but since the column name 'passanger' is a typo of the word, passenger, I changed the column name.\n",
    "* Some values in the passenger column contains '(s)'. I think it is unnecessory becuase we don't have any information about the number of passengers, so I removed '(s)'."
   ]
  },
  {
   "cell_type": "code",
   "execution_count": null,
   "metadata": {},
   "outputs": [],
   "source": [
    "#Change the column name 'passanger' to 'passenger'\n",
    "data.rename(columns = {'passanger':'passenger'}, inplace = True)"
   ]
  },
  {
   "cell_type": "code",
   "execution_count": null,
   "metadata": {},
   "outputs": [],
   "source": [
    "#Remove '(s)' in the values of the passenger column\n",
    "import warnings\n",
    "warnings.filterwarnings('ignore')\n",
    "data['passenger'] = data['passenger'].str.replace(\"\\(s\\)\", \"\")"
   ]
  },
  {
   "cell_type": "markdown",
   "metadata": {},
   "source": [
    "3. Decide what to do about your missing data -- drop, replace, other..."
   ]
  },
  {
   "cell_type": "markdown",
   "metadata": {},
   "source": [
    "#### car\n",
    "More than 99% of the values are missing. We will drop the column."
   ]
  },
  {
   "cell_type": "code",
   "execution_count": null,
   "metadata": {},
   "outputs": [],
   "source": [
    "#Drop 'car' column\n",
    "data.drop(columns=['car'], inplace=True)"
   ]
  },
  {
   "cell_type": "markdown",
   "metadata": {},
   "source": [
    "#### toCoupon_GEQ5min\n",
    "'toCoupon_GEQ5min' varibale has the same values for all the records. Since it does not provide additional information to the dataset, we will also drop this column.\n"
   ]
  },
  {
   "cell_type": "code",
   "execution_count": null,
   "metadata": {},
   "outputs": [],
   "source": [
    "#Drop 'toCoupon_GEQ5min' column\n",
    "data.drop(columns=['toCoupon_GEQ5min'], inplace=True)"
   ]
  },
  {
   "cell_type": "markdown",
   "metadata": {},
   "source": [
    "#### direction_opp\n",
    "'direction_opp' varibale has the exact opposite values to the 'direction_same' variable. We can delete the column since it does not provide additional information to the dataset.\n"
   ]
  },
  {
   "cell_type": "code",
   "execution_count": null,
   "metadata": {},
   "outputs": [],
   "source": [
    "#Drop 'direction_opp' column\n",
    "data.drop(columns=['direction_opp'], inplace=True)"
   ]
  },
  {
   "cell_type": "markdown",
   "metadata": {},
   "source": [
    "#### Other columns with missing data\n",
    "There are five more columns with missing data: Bar, CoffeeHouse, CarryAway, RestaurantLessThan20, Restaurant20To50\n",
    "There are different types of missing data, and we need to figure out if missing data are related to each other before we decide what to do with them.\n",
    "\n",
    "* MCAR : Missing completely at random\n",
    "* MAR: Missing at random\n",
    "* MNAR: Missing not at random\n",
    "\n",
    "Knowing this mechanism is important becuase, according to [this article](https://www.theanalysisfactor.com/missing-data-mechanism/), multiple imputation and maximum likelihood assume the data are at least missing at random, and deletion requires the data are MCAR in order to not introduce bias in the results.\n",
    "\n",
    "To explore the missing values in the data, I used 'missingno' library.\n"
   ]
  },
  {
   "cell_type": "code",
   "execution_count": null,
   "metadata": {},
   "outputs": [],
   "source": [
    "#Matrix Chart\n",
    "na_columns = ['Bar', 'CoffeeHouse', 'CarryAway', 'RestaurantLessThan20', 'Restaurant20To50']\n",
    "na_data = data[na_columns]\n",
    "msno.matrix(na_data, figsize=(10, 12))\n",
    "plt.title(\"Missing Data Matrix Plot\")\n",
    "plt.show()"
   ]
  },
  {
   "cell_type": "markdown",
   "metadata": {},
   "source": [
    "This matrix plot shows how the missing data is distributed in the dataset. The gray area is where the data is present, and the white area is where the data is missing. It seems that the missing values in each column are not related to each other. To delve into the relationship, let's look at the heatmap."
   ]
  },
  {
   "cell_type": "code",
   "execution_count": null,
   "metadata": {},
   "outputs": [],
   "source": [
    "#Heatmap\n",
    "msno.heatmap(na_data)\n",
    "plt.title('Missing Data Heatmap')\n",
    "plt.show()"
   ]
  },
  {
   "cell_type": "markdown",
   "metadata": {},
   "source": [
    "Heatmap shows the relationship of the presence of null values between each of the different columns. If the correlation value is close to positive 1, it means that the presence of null values of one column is positively correlated to the presence of the other column. The low correlation again shows that the missing data is at least MAR (missing at random) and that we can imputate the data. "
   ]
  },
  {
   "cell_type": "markdown",
   "metadata": {},
   "source": [
    "#### Data Imputation\n",
    "I found that there is low correlation of the presence of missing values between each column that has null values. Since all columns with missing data are captegorical variable, I will impute the missing data with the most frequent value. "
   ]
  },
  {
   "cell_type": "code",
   "execution_count": null,
   "metadata": {},
   "outputs": [],
   "source": [
    "clean_data = data\n",
    "\n",
    "for x in clean_data.columns[clean_data.isna().any()]:\n",
    "    clean_data = clean_data.fillna({x: clean_data[x].value_counts().idxmax()})\n",
    "    \n",
    "clean_data.head(10)"
   ]
  },
  {
   "cell_type": "code",
   "execution_count": null,
   "metadata": {},
   "outputs": [],
   "source": [
    "#Check if there is any null value\n",
    "clean_data.info()"
   ]
  },
  {
   "cell_type": "markdown",
   "metadata": {},
   "source": [
    "All null-values are replaced by the most frequent vlues. "
   ]
  },
  {
   "cell_type": "markdown",
   "metadata": {},
   "source": [
    "4. What proportion of the total observations chose to accept the coupon? \n",
    "\n"
   ]
  },
  {
   "cell_type": "code",
   "execution_count": null,
   "metadata": {},
   "outputs": [],
   "source": [
    "clean_data.query('Y == 1').shape[0] / clean_data.shape[0]"
   ]
  },
  {
   "cell_type": "markdown",
   "metadata": {},
   "source": [
    "56.84% of the observed data accepted the coupn."
   ]
  },
  {
   "cell_type": "markdown",
   "metadata": {},
   "source": [
    "5. Use a bar plot to visualize the `coupon` column."
   ]
  },
  {
   "cell_type": "markdown",
   "metadata": {},
   "source": [
    "First, let's visualize the count of each value in the coupon column."
   ]
  },
  {
   "cell_type": "code",
   "execution_count": null,
   "metadata": {},
   "outputs": [],
   "source": [
    "import seaborn as sns\n",
    "sns.set_theme(style=\"whitegrid\")\n",
    "sns.countplot(data=clean_data, x=\"coupon\")\n",
    "plt.title(\"Histogram of the types of coupons\")\n",
    "plt.xlabel('Types of coupons')\n",
    "plt.ylabel('Count')\n",
    "plt.xticks(rotation=45)\n",
    "plt.show()"
   ]
  },
  {
   "cell_type": "markdown",
   "metadata": {},
   "source": [
    "I also visualized the number of coupons that were accepted by the drivers right next to the ones that were not accepted."
   ]
  },
  {
   "cell_type": "code",
   "execution_count": null,
   "metadata": {},
   "outputs": [],
   "source": [
    "sns.countplot(data=clean_data, x=\"coupon\", hue=\"Y\")\n",
    "plt.title(\"Count of the coupon acceptance by coupon type\")\n",
    "plt.xlabel('Types of coupons')\n",
    "plt.ylabel('Count')\n",
    "plt.xticks(rotation=45)\n",
    "\n",
    "plt.legend(title='Acceptance', labels=['Not used', 'Accepted'])\n",
    "plt.show()"
   ]
  },
  {
   "cell_type": "markdown",
   "metadata": {},
   "source": [
    "This bar plot below shows what percentage of the drivers accepted the coupons in each coupon category."
   ]
  },
  {
   "cell_type": "code",
   "execution_count": null,
   "metadata": {},
   "outputs": [],
   "source": [
    "#Use barplot to visualze the acceptance rate of each coupon type\n",
    "grouped = clean_data.groupby('coupon')[['Y']].mean()\n",
    "grouped = grouped.reset_index()\n",
    "sns.barplot(data=grouped, x='coupon', y='Y')\n",
    "plt.title(\"Acceptance rate by coupon type\")\n",
    "plt.xlabel('Types of coupons')\n",
    "plt.ylabel('Acceptance Rate')\n",
    "plt.xticks(rotation=45)\n",
    "plt.show()"
   ]
  },
  {
   "cell_type": "markdown",
   "metadata": {},
   "source": [
    "It shows that 'Carry out & Take away' coupons and 'Restauran(<20)' coupons got accepted more compared to other types of coupons. "
   ]
  },
  {
   "cell_type": "markdown",
   "metadata": {},
   "source": [
    "6. Use a histogram to visualize the temperature column."
   ]
  },
  {
   "cell_type": "code",
   "execution_count": null,
   "metadata": {},
   "outputs": [],
   "source": [
    "sns.histplot(data=clean_data, x=\"temperature\")\n",
    "plt.title(\"Histogram of the temperature variable\")\n",
    "plt.xlabel('Temperature')\n",
    "plt.ylabel('Count')\n",
    "plt.show()"
   ]
  },
  {
   "cell_type": "markdown",
   "metadata": {},
   "source": [
    "Even though the temperature variable contains numerical values, it does not  contain continuous values. There are only three unique variables, and it functions almost like a categorical variable with ordinal characteristics. So, I think in this case countplot captures the better picture rather than the usual histogram."
   ]
  },
  {
   "cell_type": "code",
   "execution_count": null,
   "metadata": {},
   "outputs": [],
   "source": [
    "sns.countplot(data=clean_data, x=\"temperature\")\n",
    "plt.title(\"Countplot of the temperature variable\")\n",
    "plt.xlabel('Temperature')\n",
    "plt.ylabel('Count')\n",
    "plt.show()"
   ]
  },
  {
   "cell_type": "markdown",
   "metadata": {},
   "source": [
    "**Investigating the Bar Coupons**\n",
    "\n",
    "Now, we will lead you through an exploration of just the bar related coupons.  \n",
    "\n",
    "1. Create a new `DataFrame` that contains just the bar coupons.\n"
   ]
  },
  {
   "cell_type": "code",
   "execution_count": null,
   "metadata": {},
   "outputs": [],
   "source": [
    "#Create bar_data from the cleaned data\n",
    "bar_data = clean_data.query('coupon == \"Bar\"')\n",
    "bar_data"
   ]
  },
  {
   "cell_type": "markdown",
   "metadata": {},
   "source": [
    "2. What proportion of bar coupons were accepted?\n"
   ]
  },
  {
   "cell_type": "code",
   "execution_count": null,
   "metadata": {},
   "outputs": [],
   "source": [
    "bar_data.query('Y == 1').shape[0]/bar_data.shape[0]"
   ]
  },
  {
   "cell_type": "markdown",
   "metadata": {},
   "source": [
    "41.00% of the bar coupons were accepted."
   ]
  },
  {
   "cell_type": "markdown",
   "metadata": {},
   "source": [
    "3. Compare the acceptance rate between those who went to a bar 3 or fewer times a month to those who went more.\n"
   ]
  },
  {
   "cell_type": "markdown",
   "metadata": {},
   "source": [
    "* Note that I created the bar_data from the \"cleaned\" dataset which imputated the missing data of Bar, CoffeeHouse, CarryAway, RestaurantLessThan20, Restaurant20To50 columns with the most frequent values"
   ]
  },
  {
   "cell_type": "code",
   "execution_count": null,
   "metadata": {},
   "outputs": [],
   "source": [
    "ls_and_equal3 = ['1~3','less1','never']\n",
    "gt3 = ['4~8','gt8']\n",
    "\n",
    "acceptance_rate_ls3 = bar_data.query('Bar in @ls_and_equal3')['Y'].mean()\n",
    "acceptance_rate_gt3 = bar_data.query('Bar in @gt3')['Y'].mean()\n",
    "\n",
    "\n",
    "sns.barplot(x=['3 or fewer','More than 3'], y=[acceptance_rate_ls3, acceptance_rate_gt3])\n",
    "plt.xlabel('Frequency of bar visits in a month')\n",
    "plt.ylabel('Acceptance Rate')\n",
    "plt.title('Bar Coupon Acceptance Rates by Bar Visit Frequency')\n",
    "plt.show()\n"
   ]
  },
  {
   "cell_type": "code",
   "execution_count": null,
   "metadata": {},
   "outputs": [],
   "source": [
    "print(\"Acceptance rate of bar coupons by drivers who visit bars 3 or fewer times:\", round(acceptance_rate_ls3 *100, 2),\"%\")\n",
    "print(\"Acceptance rate of bar coupons by drivers who visit bars more than 3 times:\", round(acceptance_rate_gt3 *100, 2),\"%\")"
   ]
  },
  {
   "cell_type": "markdown",
   "metadata": {},
   "source": [
    "Drivers who go to the bar more 3 times a month show higher acceptance rate for bar coupons than those who visit bars less often."
   ]
  },
  {
   "cell_type": "markdown",
   "metadata": {},
   "source": [
    "4. Compare the acceptance rate between drivers who go to a bar more than once a month and are over the age of 25 to the all others.  Is there a difference?\n"
   ]
  },
  {
   "cell_type": "code",
   "execution_count": null,
   "metadata": {},
   "outputs": [],
   "source": [
    "gt_and_equal1 = ['1~3','4~8','gt8']\n",
    "lsl = ['less1','never']\n",
    "age_gt25 = ['26', '31', '36', '41', '46', '50plus']\n",
    "age_ls25 = ['21', 'below21']\n",
    "\n",
    "acceptance_rate_gt1_gt25 = bar_data.query('Bar in @gt_and_equal1 and age in @age_gt25')['Y'].mean()\n",
    "acceptance_rate_ls1_ls25 = bar_data.query('Bar in @lsl or age in @age_ls25')['Y'].mean()\n",
    "\n",
    "sns.barplot(x=['Bar visit >= 1 per month & age > 25','All others'], y=[acceptance_rate_gt1_gt25, acceptance_rate_ls1_ls25])\n",
    "plt.xlabel('Frequency of bar visits in a month & Age')\n",
    "plt.ylabel('Acceptance Rate')\n",
    "plt.title('Bar Coupon Acceptance Rates by Bar Visit Frequency & Age')\n",
    "plt.show()"
   ]
  },
  {
   "cell_type": "code",
   "execution_count": null,
   "metadata": {},
   "outputs": [],
   "source": [
    "print(\"Acceptance rate of bar coupons by drivers who visit bars more than once a month and whose age is older than 25:\", round(acceptance_rate_gt1_gt25 *100, 2),\"%\")\n",
    "print(\"Acceptance rate of bar coupons by all other drivers:\", round(acceptance_rate_ls1_ls25 *100, 2),\"%\")"
   ]
  },
  {
   "cell_type": "markdown",
   "metadata": {},
   "source": [
    "There is a clear difference in the acceptance rate between the two groups. Drivers who visit bars more than once a month and older than 25 years old show higher acceptance rate for bar coupons than all other drivers."
   ]
  },
  {
   "cell_type": "markdown",
   "metadata": {},
   "source": [
    "5. Use the same process to compare the acceptance rate between drivers who go to bars more than once a month and had passengers that were not a kid and had occupations other than farming, fishing, or forestry. \n"
   ]
  },
  {
   "cell_type": "markdown",
   "metadata": {},
   "source": [
    "I interpreted this question asking to \"use the same process\" as to **compare the specified group to all others**."
   ]
  },
  {
   "cell_type": "code",
   "execution_count": null,
   "metadata": {},
   "outputs": [],
   "source": [
    "gt_and_equal1 = ['1~3','4~8','gt8']\n",
    "lsl = ['less1','never']\n",
    "passenger_nokid = ['Friend', 'Partner']\n",
    "group_criteria= bar_data.query('Bar in @gt_and_equal1 and passenger in @passenger_nokid and occupation !=\"Farming Fishing & Forestry\"')\n",
    "\n",
    "#Check if the querying is done correctly\n",
    "#print(group_criteria['passenger'].value_counts(dropna=False))\n",
    "#print(group_criteria['occupation'].value_counts(dropna=False))\n"
   ]
  },
  {
   "cell_type": "code",
   "execution_count": null,
   "metadata": {},
   "outputs": [],
   "source": [
    "acceptance_rate_gt1_nokid_nofff = bar_data.query('Bar in @gt_and_equal1 and passenger in @passenger_nokid and occupation !=\"Farming Fishing & Forestry\"')['Y'].mean()\n",
    "acceptance_rate_all_other = bar_data.query('Bar in @lsl or passenger not in @passenger_nokid or occupation ==\"Farming Fishing & Forestry\"')['Y'].mean()\n",
    "\n",
    "sns.barplot(x=['Bar visit >= 1/month & non-kid passenger & no Farming Fishing Forestry occupation','All others'], y=[acceptance_rate_gt1_nokid_nofff, acceptance_rate_all_other])\n",
    "plt.xlabel('Frequency of bar visits in a month & Passenger & Occupation')\n",
    "plt.ylabel('Acceptance Rate')\n",
    "plt.title('Bar Coupon Acceptance Rates by Bar Visit Frequency & Passenger Type & Occupation')\n",
    "plt.xticks(fontsize=6)\n",
    "plt.show()"
   ]
  },
  {
   "cell_type": "code",
   "execution_count": null,
   "metadata": {},
   "outputs": [],
   "source": [
    "print(\"Acceptance rate of bar coupons by drivers who visit bars more than once a month and have passenger(s) other than kids and have occupations other than farming, fishing, or forestry:\", round(acceptance_rate_gt1_nokid_nofff *100, 2),\"%\")\n",
    "print(\"Acceptance rate of bar coupons by all other drivers:\", round(acceptance_rate_all_other *100, 2),\"%\")"
   ]
  },
  {
   "cell_type": "markdown",
   "metadata": {},
   "source": [
    "Bar coupon acceptance rate of the drivers who visit bars more than once a month and have passengers that are not kids and have occupations other than farming, fishing, or forestry is higher than the other drivers."
   ]
  },
  {
   "cell_type": "markdown",
   "metadata": {},
   "source": [
    "6. Compare the acceptance rates between those drivers who:\n",
    "\n",
    "- go to bars more than once a month, had passengers that were not a kid, and were not widowed *OR*\n",
    "- go to bars more than once a month and are under the age of 30 *OR*\n",
    "- go to cheap restaurants more than 4 times a month and income is less than 50K. \n",
    "\n"
   ]
  },
  {
   "cell_type": "code",
   "execution_count": null,
   "metadata": {},
   "outputs": [],
   "source": [
    "gt_and_equal1 = ['1~3','4~8','gt8']\n",
    "passenger_nokid = ['Friend', 'Partner']\n",
    "age_ls30 = ['below21', '21', '26']\n",
    "cheap_gt4 = ['4~8', 'gt8']\n",
    "income_ls50 = ['Less than $12500', '$12500 - $24999', '$25000 - $37499','$37500 - $49999']\n",
    "\n",
    "group_criteria1 = bar_data.query('Bar in @gt_and_equal1 and passenger in @passenger_nokid and maritalStatus !=\"Widowed\"')\n",
    "group_criteria2 = bar_data.query('Bar in @gt_and_equal1 and age in @age_ls30')\n",
    "group_criteria3 = bar_data.query('RestaurantLessThan20 in @cheap_gt4 and income in @income_ls50')"
   ]
  },
  {
   "cell_type": "code",
   "execution_count": null,
   "metadata": {},
   "outputs": [],
   "source": [
    "acceptance_rate1 = group_criteria1['Y'].mean()\n",
    "acceptance_rate2 = group_criteria2['Y'].mean()\n",
    "acceptance_rate3 = group_criteria3['Y'].mean()\n",
    "sns.set(rc={\"figure.figsize\":(10, 8)})\n",
    "sns.barplot(x=['Group 1','Group 2', 'Group 3'], y=[acceptance_rate1, acceptance_rate2, acceptance_rate3])\n",
    "plt.xlabel('Groups with criteria')\n",
    "plt.ylabel('Acceptance Rate')\n",
    "plt.title('Bar Coupon Acceptance Rates')\n",
    "plt.legend(title = 'Group 1: ≥1 Bar visit/month & Non-child passenger & Not widowed \\n Group 2: ≥1 Bar visit/month & Under 30 years old \\n Group 3: ≥4 Cheap restaurant visit/month & <50K income', title_fontsize=7)\n",
    "plt.show()"
   ]
  },
  {
   "cell_type": "code",
   "execution_count": null,
   "metadata": {},
   "outputs": [],
   "source": [
    "print(\"Group 1 Acceptance rate:\", round(acceptance_rate1 *100, 2),\"%\")\n",
    "print(\"Group 2 Acceptance rate:\", round(acceptance_rate2 *100, 2),\"%\")\n",
    "print(\"Group 3 Acceptance rate:\", round(acceptance_rate3 *100, 2),\"%\")"
   ]
  },
  {
   "cell_type": "markdown",
   "metadata": {},
   "source": [
    "The comparison of the acceptance rate of the three groups indicates that the first two groups show higher acceptance rates than the third group. However, in order to tell if the criteria can differentiate who would accept the coupon or not, we should compare each group to the groups without respective criteria. "
   ]
  },
  {
   "cell_type": "code",
   "execution_count": null,
   "metadata": {},
   "outputs": [],
   "source": [
    "all_other_than_criteria1 = bar_data.query('Bar not in @gt_and_equal1 or passenger not in @passenger_nokid or maritalStatus ==\"Widowed\"')\n",
    "all_other_than_criteria2 = bar_data.query('Bar not in @gt_and_equal1 or age not in @age_ls30')\n",
    "all_other_than_criteria3 = bar_data.query('RestaurantLessThan20 not in @cheap_gt4 or income not in @income_ls50')\n",
    "\n",
    "acceptance_rate_all_other1 = all_other_than_criteria1['Y'].mean()\n",
    "acceptance_rate_all_other2 = all_other_than_criteria2['Y'].mean()\n",
    "acceptance_rate_all_other3 = all_other_than_criteria3['Y'].mean()\n",
    "\n",
    "fig, axes = plt.subplots(1, 3, sharey=True, figsize=(12,5))\n",
    "fig.suptitle('Bar Coupon Acceptance Rates')\n",
    "axes[0].set_title('≥1 Bar visit/month & Non-child passenger\\n& Not widowed vs All other', fontsize=10)\n",
    "axes[1].set_title('≥1 Bar visit/month & Under 30 years old\\nvs All other', fontsize=10)\n",
    "axes[2].set_title('≥4 Cheap restaurant visit/month & <50K income\\nvs All other', fontsize=10)\n",
    "\n",
    "\n",
    "#Plot Group 1\n",
    "sns.barplot(ax=axes[0], x=['Group 1','All other'], y=[acceptance_rate1, acceptance_rate_all_other1])\n",
    "\n",
    "#Plot Group 2\n",
    "sns.barplot(ax=axes[1], x=['Group 2','All other'], y=[acceptance_rate2, acceptance_rate_all_other2])\n",
    "\n",
    "# Plot Group 2\n",
    "sns.barplot(ax=axes[2], x=['Group 3','All other'], y=[acceptance_rate3, acceptance_rate_all_other3]);"
   ]
  },
  {
   "cell_type": "markdown",
   "metadata": {},
   "source": [
    "Drivers who visit bars frequently show higher acceptance rate whether or not it is combined with other variables. Drivers who visit cheap restaurants frequently and have lower income  show higher acceptance rate than the ones without these criteria, but the rate difference is not very big."
   ]
  },
  {
   "cell_type": "markdown",
   "metadata": {},
   "source": [
    "7.  Based on these observations, what do you hypothesize about drivers who accepted the bar coupons?"
   ]
  },
  {
   "cell_type": "markdown",
   "metadata": {},
   "source": [
    "First hypotheses that we can derive from the data exploration is that the drivers who visit bars frequently are more likely to accept bar coupons.\n",
    "Second, drivers who have adult passengers might be more likely to accept bar coupons, but we need to explore passenger variable separate from the bar visit variable. \n",
    "Third, drivers who visit cheap restaurants frequently and have lower income might be more likely to accept bar coupons\n",
    "Fourth, age may not be the factor to differentiate who would accept the coupon and who would not. \n"
   ]
  },
  {
   "cell_type": "markdown",
   "metadata": {},
   "source": [
    "### Independent Investigation\n",
    "\n",
    "Using the bar coupon example as motivation, you are to explore one of the other coupon groups and try to determine the characteristics of passengers who accept the coupons.  "
   ]
  },
  {
   "cell_type": "markdown",
   "metadata": {},
   "source": [
    "## 1. Create a new DataFrame that contains just the Coffee House coupons."
   ]
  },
  {
   "cell_type": "code",
   "execution_count": null,
   "metadata": {},
   "outputs": [],
   "source": [
    "#Create coffee_house_data from the cleaned data\n",
    "coffee_house_data = clean_data.query('coupon == \"Coffee House\"')\n",
    "coffee_house_data"
   ]
  },
  {
   "cell_type": "markdown",
   "metadata": {},
   "source": [
    "## 2. Mapping variables\n",
    "There are categorial varaiables that show orginal features.\n",
    "I mapped the ordinal categorical variables to numerical values to preserve the order."
   ]
  },
  {
   "cell_type": "code",
   "execution_count": null,
   "metadata": {},
   "outputs": [],
   "source": [
    "frequency_mapping = {\n",
    "    'never': 0,\n",
    "    'less1': 1,\n",
    "    '1~3': 2,\n",
    "    '4~8': 3,\n",
    "    'gt8': 4\n",
    "}\n",
    "age_mapping = {\n",
    "    'below21': 0,\n",
    "    '21': 1,\n",
    "    '26': 2,\n",
    "    '31': 3,\n",
    "    '36': 4,\n",
    "    '41': 5,\n",
    "    '46': 6,\n",
    "    '50plus': 7\n",
    "}\n",
    "income_mapping = {\n",
    "    'Less than $12500': 0,\n",
    "    '$12500 - $24999': 1,\n",
    "    '$25000 - $37499': 2,\n",
    "    '$37500 - $49999': 3,\n",
    "    '$50000 - $62499': 4,\n",
    "    '$62500 - $74999': 5,\n",
    "    '$75000 - $87499': 6,\n",
    "    '$87500 - $99999': 7,\n",
    "    '$100000 or More': 8\n",
    "}\n",
    "\n",
    "cols = ['RestaurantLessThan20', 'Restaurant20To50', 'Bar', 'CoffeeHouse', 'CarryAway']\n",
    "\n",
    "for col in cols:\n",
    "    coffee_house_data[col] = coffee_house_data[col].map(frequency_mapping)\n",
    "    \n",
    "coffee_house_data['age'] = coffee_house_data['age'].map(age_mapping)\n",
    "coffee_house_data['income'] = coffee_house_data['income'].map(income_mapping)"
   ]
  },
  {
   "cell_type": "markdown",
   "metadata": {},
   "source": [
    "#### 'toCoupon_GEQ15min' and 'toCoupon_GEQ25min'\n",
    "\n",
    "'toCoupon_GEQ15min' and 'toCoupon_GEQ25min' indicate the distance between the drivers' location and the place where they can use the coupons. \n",
    "We can combine these two variables into one ordinal variable, 'distance'. "
   ]
  },
  {
   "cell_type": "code",
   "execution_count": null,
   "metadata": {},
   "outputs": [],
   "source": [
    "coffee_house_data['distance'] = 0 #to assign numerical value to the column\n",
    "coffee_house_data.loc[coffee_house_data['toCoupon_GEQ15min'] == 0, 'distance'] = 0\n",
    "coffee_house_data.loc[(coffee_house_data['toCoupon_GEQ15min'] == 1) & (coffee_house_data['toCoupon_GEQ25min'] == 0), 'distance'] = 1\n",
    "coffee_house_data.loc[coffee_house_data['toCoupon_GEQ25min'] == 1, 'distance'] = 2"
   ]
  },
  {
   "cell_type": "markdown",
   "metadata": {},
   "source": [
    "## 3. Data Exploration Analysis\n",
    "I first plotted the histograms of the numercial variables."
   ]
  },
  {
   "cell_type": "code",
   "execution_count": null,
   "metadata": {},
   "outputs": [],
   "source": [
    "#Select numerical variables and plot histograms\n",
    "numerical_data = coffee_house_data.select_dtypes('int64', 'float64')\n",
    "numerical_data.hist(figsize=(12, 12))\n",
    "plt.suptitle(\"Histogram of numerical variables\")\n",
    "plt.show()"
   ]
  },
  {
   "cell_type": "markdown",
   "metadata": {},
   "source": [
    "Then, let's plot the acceptance rate for each ordinal variables."
   ]
  },
  {
   "cell_type": "code",
   "execution_count": null,
   "metadata": {},
   "outputs": [],
   "source": [
    "# Plot barplots and regression line of the acceptance rates of coffee house coupons for temperature, age, income, CoffeeHouse, CarryAway, RestaurantLessThan20, Restaurant20To50, distance variables.\n",
    "\n",
    "fig, axes = plt.subplots(2, 4, figsize=(10, 6))\n",
    "plt.suptitle(\"Acceptance Rate of Coffee House coupon (Ordinal Variables)\")\n",
    "axes = axes.flatten()\n",
    "\n",
    "for ax, col in zip(axes, ['temperature', 'age', 'income', 'CoffeeHouse','CarryAway', 'RestaurantLessThan20', 'Restaurant20To50', 'distance']):\n",
    "    grouped = coffee_house_data.groupby(col)[['Y']].value_counts(normalize=True).unstack().reset_index()\n",
    "    grouped.columns = grouped.columns.map(str)\n",
    "    sns.barplot(data=grouped, x=grouped.index, y='1', ax=ax)\n",
    "    sns.regplot(x=grouped.index, y=grouped['1'], ax=ax)\n",
    "    ax.set_ylabel('Acceptance Rate')\n",
    "    ax.set_xlabel(col)\n",
    "\n",
    "\n",
    "plt.tight_layout();\n"
   ]
  },
  {
   "cell_type": "markdown",
   "metadata": {},
   "source": [
    "#### 'temperature', 'RestaurantLessThan20', 'Restaurant20To50'\n",
    "The barplots of 'temperature', 'RestaurantLessThan20', 'Restaurant20To50' variables show that:\n",
    "* the acceptance rate consistently increases as the ordinal value becomes bigger,\n",
    "* and there is positive relationship between these variables and the acceptance rate of coffee house coupon, \n",
    "\n",
    "which means that:\n",
    "* as the temperatrue gets warmer, drivers are more likely use the coffee house coupon,\n",
    "* and the more frequent the drivers go to restaurants of any prices, the more likely they are to accept the coupon.\n",
    "\n"
   ]
  },
  {
   "cell_type": "markdown",
   "metadata": {},
   "source": [
    "\n",
    "#### 'CoffeeHouse'\n",
    "Aligned with the intuition, the acceptance rate of coffee house coupon increase with frequency of coffee house visit, but it is interesting to see that it does increase until it hits the 3 times a month point, and then decreases a little. \n",
    "Also, people who go to restuarants often also uses the coffee coupon more often. \n",
    "\n",
    "\n",
    "\n"
   ]
  },
  {
   "cell_type": "markdown",
   "metadata": {},
   "source": [
    "#### 'distance'\n",
    "The barplots of 'distance' variable indicates that:\n",
    "* the acceptance rate consistently decreases as the ordinal value becomes bigger,\n",
    "\n",
    "which means that:\n",
    "* as the distance from where they are and to the coffee house location becomes farther, drivers are less likely use the coffee house coupon.\n",
    "\n",
    "This finding also aligns with common sense. \n"
   ]
  },
  {
   "cell_type": "markdown",
   "metadata": {},
   "source": [
    "#### 'age', 'income', 'CarryAway'\n",
    "The barplots of 'age', 'income', 'CarryAway' variables show inconsistent acceptance rate meaning ups and downs as the ordinal value increase. \n",
    "\n",
    "However, the regression line tells us that there are negative relationships between the acceptance rate and\n",
    "* 'age'\n",
    "* 'income'\n",
    "\n",
    ", and there is a positive relationship between the acceptance rate and\n",
    "* 'CarryAway'.\n",
    "\n",
    "While we can look into more statistical evidence whethere or not it is statistically significant in the future analysis, they are meaningful findings for now. \n",
    "\n",
    "Below is the inferential statistics (slope and intercept) of the regression lines for each variable.\n"
   ]
  },
  {
   "cell_type": "code",
   "execution_count": null,
   "metadata": {},
   "outputs": [],
   "source": [
    "reg_data = None\n",
    "reg_data = pd.DataFrame({'slope': [], 'intercept': []})\n",
    "index = ['temperature', 'age', 'income', 'CoffeeHouse','CarryAway', 'RestaurantLessThan20', 'Restaurant20To50', 'distance']\n",
    "for col in ['temperature', 'age', 'income', 'CoffeeHouse','CarryAway', 'RestaurantLessThan20', 'Restaurant20To50', 'distance']:\n",
    "    grouped = coffee_house_data.groupby(col)[['Y']].value_counts(normalize=True).unstack().reset_index()\n",
    "    grouped.columns = grouped.columns.map(str)\n",
    "    pl = sns.regplot(x=grouped.index, y=grouped['1'])\n",
    "    slope, intercept, r, p, sterr = scipy.stats.linregress(x=pl.get_lines()[0].get_xdata(), y=pl.get_lines()[0].get_ydata())\n",
    "    reg_data = pd.concat([reg_data, pd.DataFrame({'slope': [slope], 'intercept': [intercept]})])\n",
    "    plt.close()\n",
    "    \n",
    "reg_data.index = index\n",
    "reg_data"
   ]
  },
  {
   "cell_type": "code",
   "execution_count": null,
   "metadata": {},
   "outputs": [],
   "source": [
    "#Change the variable type to string\n",
    "coffee_house_data.has_children = coffee_house_data.has_children.astype(str)\n",
    "coffee_house_data.direction_same = coffee_house_data.direction_same.astype(str)\n",
    "\n",
    "#Visualize barplots\n",
    "fig, axes = plt.subplots(4,2, figsize=(12, 12))\n",
    "plt.suptitle(\"Acceptance Rate of Coffee House coupon (Categorical Variables)\")\n",
    "axes = axes.flatten()\n",
    "\n",
    "for ax, col in zip(axes, ['destination', 'passenger', 'weather', 'expiration','gender', 'maritalStatus', 'has_children', 'direction_same']):\n",
    "    grouped = coffee_house_data.groupby(col)[['Y']].value_counts(normalize=True).unstack()\n",
    "    \n",
    "    sns.barplot(data=grouped, x=grouped.index, y=1, ax=ax)\n",
    "    ax.set_ylabel('Acceptance Rate')\n",
    "    \n",
    "plt.tight_layout();"
   ]
  },
  {
   "cell_type": "markdown",
   "metadata": {},
   "source": [
    "The barplots of the acceptance rate for different categorical variables indicate that drivers tend to accept coupons more when:\n",
    "* they don't have any urgent places to go,\n",
    "* they have adult passengers,\n",
    "* it is not snowing,\n",
    "* the coupon expiration period is longer,\n",
    "* and they are not widowed.\n",
    "\n",
    "Drivers' gender, whether they have children or not, and whether they are going to the same direction as the location of the coffee house only show small difference in the percentage. "
   ]
  },
  {
   "cell_type": "markdown",
   "metadata": {},
   "source": [
    "## 4. Conclusion"
   ]
  },
  {
   "cell_type": "markdown",
   "metadata": {},
   "source": [
    "Based on the data exploration of the Coffee House coupons, the following hypotheses can be derived regarding the characteristics of drivers who accepted the coupons:\n",
    "\n",
    "* Temperature: Drivers are more likely to use the coffee house coupon as the temperature gets warmer.\n",
    "* Age: Younger drivers are more likely to accept the coffee house coupon compared to older drivers.\n",
    "* Coffee House Visit Frequency: As the frequency of visiting coffee houses increases, the acceptance rate of coffee house coupons also increases until it reaches a peak at around 3 visits per month and then slightly decreases.\n",
    "* Restaurant Visit Frequency: Drivers who visit restaurants more frequently, regardless of the price range, are more likely to accept the coffee house coupon.\n",
    "* Distance: The acceptance rate of the coffee house coupon decreases as the distance from the driver's location to the coffee house increases.\n",
    "* Carry Away: Drivers who frequently purchase take-away food are more likely to accept the coffee house coupon.\n",
    "* Other Variables: Some categorical variables such as destination, passenger type, weather, expiration, marital status show affect the acceptance rate of the coffee house coupon.\n",
    "* income, gender, presence of children, and same direction do not show consistent patterns or strong relationships.\n",
    "\n",
    "These hypotheses provide insights into the characteristics of drivers who are more likely to accept Coffee House coupons. These insights can be utilized when deciding target demographic/environment to distribute the coupons.\n",
    "\n",
    "However, further statistical analysis and hypothesis testing would be required to validate these findings and determine the significance of the relationships observed.\n"
   ]
  },
  {
   "cell_type": "code",
   "execution_count": null,
   "metadata": {},
   "outputs": [],
   "source": []
  }
 ],
 "metadata": {
  "kernelspec": {
   "display_name": "Python 3 (ipykernel)",
   "language": "python",
   "name": "python3"
  },
  "language_info": {
   "codemirror_mode": {
    "name": "ipython",
    "version": 3
   },
   "file_extension": ".py",
   "mimetype": "text/x-python",
   "name": "python",
   "nbconvert_exporter": "python",
   "pygments_lexer": "ipython3",
   "version": "3.8.16"
  },
  "widgets": {
   "application/vnd.jupyter.widget-state+json": {
    "state": {},
    "version_major": 2,
    "version_minor": 0
   }
  }
 },
 "nbformat": 4,
 "nbformat_minor": 4
}
